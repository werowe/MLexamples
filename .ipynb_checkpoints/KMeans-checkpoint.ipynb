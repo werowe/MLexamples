{
 "cells": [
  {
   "cell_type": "code",
   "execution_count": null,
   "metadata": {},
   "outputs": [],
   "source": [
    "# add something"
   ]
  },
  {
   "cell_type": "code",
   "execution_count": null,
   "metadata": {},
   "outputs": [],
   "source": [
    "%sc\n",
    "\n",
    "!wget 'https://s3-eu-west-1.amazonaws.com/crimedatawalker/crime.csv'"
   ]
  },
  {
   "cell_type": "code",
   "execution_count": null,
   "metadata": {},
   "outputs": [],
   "source": [
    "import pandas as pd\n",
    "import numpy as np\n",
    "import matplotlib.pyplot as plt\n",
    "crime = pd.read_csv('crime.csv', header=0)\n",
    "print(crime.head())\n",
    "\n"
   ]
  },
  {
   "cell_type": "code",
   "execution_count": null,
   "metadata": {
    "collapsed": true
   },
   "outputs": [],
   "source": [
    "def stateToNumber(s):\n",
    "    l = 0\n",
    "    for x in s:\n",
    "        l = l + int(hex(ord(x)),16)\n",
    "    return l"
   ]
  },
  {
   "cell_type": "code",
   "execution_count": null,
   "metadata": {},
   "outputs": [],
   "source": [
    "\n",
    "\n",
    "xref = pd.DataFrame(crime['State'])\n",
    "\n",
    "crime['State']=crime['State'].apply(lambda x: stateToNumber(x))\n",
    "\n",
    "crime.head()"
   ]
  },
  {
   "cell_type": "code",
   "execution_count": null,
   "metadata": {
    "collapsed": true
   },
   "outputs": [],
   "source": [
    "crimeArray = crime.as_matrix().astype(np.float32)\n"
   ]
  },
  {
   "cell_type": "code",
   "execution_count": null,
   "metadata": {},
   "outputs": [],
   "source": [
    "crimeArray.shape"
   ]
  },
  {
   "cell_type": "code",
   "execution_count": null,
   "metadata": {},
   "outputs": [],
   "source": [
    "from sagemaker import KMeans\n",
    "from sagemaker import get_execution_role\n",
    "\n",
    "role = get_execution_role()\n",
    "print(role)\n",
    "\n",
    "bucket = \"sagemakerwalkerml\"\n",
    "data_location = \"sagemakerwalkerml\"\n",
    "\n",
    "\n",
    "data_location = 's3://{}/kmeans_highlevel_example/data'.format(bucket)\n",
    "output_location = 's3://{}/kmeans_example/output'.format(bucket)\n",
    "\n",
    "print('training data will be uploaded to: {}'.format(data_location))\n",
    "print('training artifacts will be uploaded to: {}'.format(output_location))\n",
    "\n",
    "kmeans = KMeans(role=role,\n",
    "                train_instance_count=1,\n",
    "                train_instance_type='ml.c4.8xlarge',\n",
    "                output_path=output_location,\n",
    "                k=10,\n",
    "                data_location=data_location)"
   ]
  },
  {
   "cell_type": "code",
   "execution_count": null,
   "metadata": {
    "collapsed": true
   },
   "outputs": [],
   "source": [
    "slice=crimeArray[:,1:5]"
   ]
  },
  {
   "cell_type": "code",
   "execution_count": 339,
   "metadata": {
    "scrolled": true
   },
   "outputs": [
    {
     "name": "stdout",
     "output_type": "stream",
     "text": [
      "...........................................................\n",
      "\u001b[31mDocker entrypoint called with argument(s): train\u001b[0m\n",
      "\u001b[31m[03/28/2018 14:17:51 INFO 140290884646720] Reading default configuration from /opt/amazon/lib/python2.7/site-packages/algorithm/default-input.json: {u'_num_gpus': u'auto', u'local_lloyd_num_trials': u'auto', u'_log_level': u'info', u'_kvstore': u'auto', u'local_lloyd_init_method': u'kmeans++', u'force_dense': u'true', u'epochs': u'1', u'init_method': u'random', u'local_lloyd_tol': u'0.0001', u'local_lloyd_max_iter': u'300', u'_disable_wait_to_read': u'false', u'extra_center_factor': u'auto', u'eval_metrics': u'[\"msd\"]', u'_num_kv_servers': u'1', u'mini_batch_size': u'5000', u'half_life_time_size': u'0', u'_num_slices': u'1'}\u001b[0m\n",
      "\u001b[31m[03/28/2018 14:17:51 INFO 140290884646720] Reading provided configuration from /opt/ml/input/config/hyperparameters.json: {u'feature_dim': u'4', u'mini_batch_size': u'50', u'k': u'10', u'force_dense': u'True'}\u001b[0m\n",
      "\u001b[31m[03/28/2018 14:17:51 INFO 140290884646720] Final configuration: {u'k': u'10', u'_num_gpus': u'auto', u'local_lloyd_num_trials': u'auto', u'_log_level': u'info', u'_kvstore': u'auto', u'local_lloyd_init_method': u'kmeans++', u'force_dense': u'True', u'epochs': u'1', u'init_method': u'random', u'feature_dim': u'4', u'local_lloyd_tol': u'0.0001', u'local_lloyd_max_iter': u'300', u'_disable_wait_to_read': u'false', u'extra_center_factor': u'auto', u'eval_metrics': u'[\"msd\"]', u'_num_kv_servers': u'1', u'mini_batch_size': u'50', u'half_life_time_size': u'0', u'_num_slices': u'1'}\u001b[0m\n",
      "\u001b[31m[03/28/2018 14:17:51 WARNING 140290884646720] Loggers have already been setup.\u001b[0m\n",
      "\u001b[31m[03/28/2018 14:17:51 INFO 140290884646720] Using default worker.\u001b[0m\n",
      "\u001b[31m[03/28/2018 14:17:51 INFO 140290884646720] Loaded iterator creator application/x-recordio-protobuf for content type ('application/x-recordio-protobuf', '1.0')\u001b[0m\n",
      "\u001b[31m[03/28/2018 14:17:51 INFO 140290884646720] Create Store: local\u001b[0m\n",
      "\u001b[31m[03/28/2018 14:17:51 INFO 140290884646720] nvidia-smi took: 0.0251910686493 secs to identify 0 gpus\u001b[0m\n",
      "\u001b[31m[03/28/2018 14:17:51 INFO 140290884646720] Number of GPUs being used: 0\u001b[0m\n",
      "\u001b[31m[03/28/2018 14:17:51 INFO 140290884646720] Setting up with params: {u'k': u'10', u'_num_gpus': u'auto', u'local_lloyd_num_trials': u'auto', u'_log_level': u'info', u'_kvstore': u'auto', u'local_lloyd_init_method': u'kmeans++', u'force_dense': u'True', u'epochs': u'1', u'init_method': u'random', u'feature_dim': u'4', u'local_lloyd_tol': u'0.0001', u'local_lloyd_max_iter': u'300', u'_disable_wait_to_read': u'false', u'extra_center_factor': u'auto', u'eval_metrics': u'[\"msd\"]', u'_num_kv_servers': u'1', u'mini_batch_size': u'50', u'half_life_time_size': u'0', u'_num_slices': u'1'}\u001b[0m\n",
      "\u001b[31m[03/28/2018 14:17:51 INFO 140290884646720] Number of GPUs being used: 0\u001b[0m\n",
      "\u001b[31m/opt/amazon/lib/python2.7/site-packages/ai_algorithms_sdk/config/config_helper.py:170: DeprecationWarning: deprecated\n",
      "  warnings.warn(\"deprecated\", DeprecationWarning)\u001b[0m\n",
      "\u001b[31m/opt/amazon/lib/python2.7/site-packages/ai_algorithms_sdk/config/config_helper.py:120: DeprecationWarning: deprecated\n",
      "  warnings.warn(\"deprecated\", DeprecationWarning)\u001b[0m\n",
      "\u001b[31m[03/28/2018 14:17:51 INFO 140290884646720] number of center slices 1\u001b[0m\n",
      "\u001b[31m#metrics {\"Metrics\": {\"Max Batches Seen Between Resets\": {\"count\": 1, \"max\": 1, \"sum\": 1.0, \"min\": 1}, \"Number of Batches Since Last Reset\": {\"count\": 1, \"max\": 1, \"sum\": 1.0, \"min\": 1}, \"Number of Records Since Last Reset\": {\"count\": 1, \"max\": 50, \"sum\": 50.0, \"min\": 50}, \"Total Batches Seen\": {\"count\": 1, \"max\": 1, \"sum\": 1.0, \"min\": 1}, \"Total Records Seen\": {\"count\": 1, \"max\": 50, \"sum\": 50.0, \"min\": 50}, \"Max Records Seen Between Resets\": {\"count\": 1, \"max\": 50, \"sum\": 50.0, \"min\": 50}, \"Reset Count\": {\"count\": 1, \"max\": 0, \"sum\": 0.0, \"min\": 0}}, \"EndTime\": 1522246671.258859, \"Dimensions\": {\"Host\": \"algo-1\", \"Meta\": \"init_train_data_iter\", \"Operation\": \"training\", \"Algorithm\": \"AWS/KMeansWebscale\"}, \"StartTime\": 1522246671.258807}\n",
      "\u001b[0m\n",
      "\u001b[31m[03/28/2018 14:17:51 INFO 140290884646720] processed a total of 50 examples\u001b[0m\n",
      "\u001b[31m#metrics {\"Metrics\": {\"Max Batches Seen Between Resets\": {\"count\": 1, \"max\": 1, \"sum\": 1.0, \"min\": 1}, \"Number of Batches Since Last Reset\": {\"count\": 1, \"max\": 1, \"sum\": 1.0, \"min\": 1}, \"Number of Records Since Last Reset\": {\"count\": 1, \"max\": 50, \"sum\": 50.0, \"min\": 50}, \"Total Batches Seen\": {\"count\": 1, \"max\": 2, \"sum\": 2.0, \"min\": 2}, \"Total Records Seen\": {\"count\": 1, \"max\": 100, \"sum\": 100.0, \"min\": 100}, \"Max Records Seen Between Resets\": {\"count\": 1, \"max\": 50, \"sum\": 50.0, \"min\": 50}, \"Reset Count\": {\"count\": 1, \"max\": 1, \"sum\": 1.0, \"min\": 1}}, \"EndTime\": 1522246671.305602, \"Dimensions\": {\"Host\": \"algo-1\", \"Meta\": \"training_data_iter\", \"Operation\": \"training\", \"Algorithm\": \"AWS/KMeansWebscale\", \"epoch\": 0}, \"StartTime\": 1522246671.305574}\n",
      "\u001b[0m\n",
      "\u001b[31m[03/28/2018 14:17:51 WARNING 140290884646720] wait_for_all_workers will not sync workers since the kv store is not running distributed\u001b[0m\n",
      "\u001b[31m[03/28/2018 14:17:51 INFO 140290884646720] shrinking 100 centers into 10\u001b[0m\n",
      "\u001b[31m[03/28/2018 14:17:51 INFO 140290884646720] local kmeans attempt #0. Current mean square distance 150.782684\u001b[0m\n",
      "\u001b[31m[03/28/2018 14:17:51 INFO 140290884646720] local kmeans attempt #1. Current mean square distance 174.028854\u001b[0m\n",
      "\u001b[31m[03/28/2018 14:17:51 INFO 140290884646720] local kmeans attempt #2. Current mean square distance 138.440460\u001b[0m\n",
      "\u001b[31m[03/28/2018 14:17:51 INFO 140290884646720] local kmeans attempt #3. Current mean square distance 182.790787\u001b[0m\n",
      "\u001b[31m[03/28/2018 14:17:51 INFO 140290884646720] local kmeans attempt #4. Current mean square distance 150.782684\u001b[0m\n",
      "\u001b[31m[03/28/2018 14:17:51 INFO 140290884646720] local kmeans attempt #5. Current mean square distance 135.794235\u001b[0m\n",
      "\u001b[31m[03/28/2018 14:17:51 INFO 140290884646720] local kmeans attempt #6. Current mean square distance 148.670334\u001b[0m\n",
      "\u001b[31m[03/28/2018 14:17:51 INFO 140290884646720] local kmeans attempt #7. Current mean square distance 144.740982\u001b[0m\n",
      "\u001b[31m[03/28/2018 14:17:51 INFO 140290884646720] local kmeans attempt #8. Current mean square distance 143.302856\u001b[0m\n",
      "\u001b[31m[03/28/2018 14:17:51 INFO 140290884646720] local kmeans attempt #9. Current mean square distance 161.016785\u001b[0m\n",
      "\u001b[31m[03/28/2018 14:17:51 INFO 140290884646720] finished shrinking process. Mean Square Distance = 136\u001b[0m\n",
      "\u001b[31m[03/28/2018 14:17:51 INFO 140290884646720] gradient: cluster center took: 34.7515%, (0.016187 secs)\u001b[0m\n",
      "\u001b[31m[03/28/2018 14:17:51 INFO 140290884646720] compute all data-center distances: inner product took: 31.4695%, (0.014658 secs)\u001b[0m\n",
      "\u001b[31m[03/28/2018 14:17:51 INFO 140290884646720] compute all data-center distances: point norm took: 18.5620%, (0.008646 secs)\u001b[0m\n",
      "\u001b[31m[03/28/2018 14:17:51 INFO 140290884646720] gradient: one_hot took: 5.8418%, (0.002721 secs)\u001b[0m\n",
      "\u001b[31m[03/28/2018 14:17:51 INFO 140290884646720] predict compute msd took: 5.5393%, (0.002580 secs)\u001b[0m\n",
      "\u001b[31m[03/28/2018 14:17:51 INFO 140290884646720] batch data loading with context took: 0.9060%, (0.000422 secs)\u001b[0m\n",
      "\u001b[31m[03/28/2018 14:17:51 INFO 140290884646720] update state and report convergance took: 0.7514%, (0.000350 secs)\u001b[0m\n",
      "\u001b[31m[03/28/2018 14:17:51 INFO 140290884646720] collect from kv store took: 0.5646%, (0.000263 secs)\u001b[0m\n",
      "\u001b[31m[03/28/2018 14:17:51 INFO 140290884646720] compute all data-center distances: center norm took: 0.4402%, (0.000205 secs)\u001b[0m\n",
      "\u001b[31m[03/28/2018 14:17:51 INFO 140290884646720] update set-up time took: 0.4356%, (0.000203 secs)\u001b[0m\n",
      "\u001b[31m[03/28/2018 14:17:51 INFO 140290884646720] splitting centers key-value pair took: 0.3798%, (0.000177 secs)\u001b[0m\n",
      "\u001b[31m[03/28/2018 14:17:51 INFO 140290884646720] gradient: cluster size  took: 0.3133%, (0.000146 secs)\u001b[0m\n",
      "\u001b[31m[03/28/2018 14:17:51 INFO 140290884646720] predict minus dist took: 0.0450%, (0.000021 secs)\u001b[0m\n",
      "\u001b[31m[03/28/2018 14:17:51 INFO 140290884646720] TOTAL took: 0.0465791225433\u001b[0m\n",
      "\u001b[31m[03/28/2018 14:17:51 INFO 140290884646720] Number of GPUs being used: 0\u001b[0m\n",
      "\u001b[31m#metrics {\"Metrics\": {\"finalize.time\": {\"count\": 1, \"max\": 180.97996711730957, \"sum\": 180.97996711730957, \"min\": 180.97996711730957}, \"initialize.time\": {\"count\": 1, \"max\": 7.455110549926758, \"sum\": 7.455110549926758, \"min\": 7.455110549926758}, \"model.serialize.time\": {\"count\": 1, \"max\": 0.23889541625976562, \"sum\": 0.23889541625976562, \"min\": 0.23889541625976562}, \"update.time\": {\"count\": 1, \"max\": 46.44298553466797, \"sum\": 46.44298553466797, \"min\": 46.44298553466797}, \"epochs\": {\"count\": 1, \"max\": 1, \"sum\": 1.0, \"min\": 1}, \"state.serialize.time\": {\"count\": 1, \"max\": 0.19693374633789062, \"sum\": 0.19693374633789062, \"min\": 0.19693374633789062}, \"_shrink.time\": {\"count\": 1, \"max\": 180.04202842712402, \"sum\": 180.04202842712402, \"min\": 180.04202842712402}}, \"EndTime\": 1522246671.487298, \"Dimensions\": {\"Host\": \"algo-1\", \"Operation\": \"training\", \"Algorithm\": \"AWS/KMeansWebscale\"}, \"StartTime\": 1522246671.242142}\n",
      "\u001b[0m\n",
      "\u001b[31m[03/28/2018 14:17:51 INFO 140290884646720] Test data was not provided.\u001b[0m\n",
      "\u001b[31m#metrics {\"Metrics\": {\"totaltime\": {\"count\": 1, \"max\": 309.8127841949463, \"sum\": 309.8127841949463, \"min\": 309.8127841949463}, \"setuptime\": {\"count\": 1, \"max\": 14.623880386352539, \"sum\": 14.623880386352539, \"min\": 14.623880386352539}}, \"EndTime\": 1522246671.489186, \"Dimensions\": {\"Host\": \"algo-1\", \"Operation\": \"training\", \"Algorithm\": \"AWS/KMeansWebscale\"}, \"StartTime\": 1522246671.487366}\n",
      "\u001b[0m\n"
     ]
    },
    {
     "name": "stdout",
     "output_type": "stream",
     "text": [
      "===== Job Complete =====\n",
      "CPU times: user 548 ms, sys: 16 ms, total: 564 ms\n",
      "Wall time: 8min 9s\n"
     ]
    }
   ],
   "source": [
    "%%time\n",
    "kmeans.fit(kmeans.record_set(slice)) "
   ]
  },
  {
   "cell_type": "code",
   "execution_count": 340,
   "metadata": {},
   "outputs": [
    {
     "name": "stderr",
     "output_type": "stream",
     "text": [
      "INFO:sagemaker:Creating model with name: kmeans-2018-03-28-14-19-45-414\n",
      "INFO:sagemaker:Creating endpoint with name kmeans-2018-03-28-14-11-35-745\n"
     ]
    },
    {
     "name": "stdout",
     "output_type": "stream",
     "text": [
      "----------------------------------------------------------------------------------------------------------------------------!CPU times: user 548 ms, sys: 28 ms, total: 576 ms\n",
      "Wall time: 10min 29s\n"
     ]
    }
   ],
   "source": [
    "%%time\n",
    "\n",
    "kmeans_predictor = kmeans.deploy(initial_instance_count=1,\n",
    "                                 instance_type='ml.m4.xlarge')"
   ]
  },
  {
   "cell_type": "code",
   "execution_count": 341,
   "metadata": {},
   "outputs": [
    {
     "data": {
      "text/plain": [
       "array([[   4.        ,   13.19999981,  236.        ,   58.        ],\n",
       "       [   4.        ,   10.        ,  263.        ,   48.        ],\n",
       "       [   4.        ,    8.10000038,  294.        ,   80.        ],\n",
       "       [   3.        ,    8.80000019,  190.        ,   50.        ],\n",
       "       [   4.        ,    9.        ,  276.        ,   91.        ],\n",
       "       [   3.        ,    7.9000001 ,  204.        ,   78.        ],\n",
       "       [   2.        ,    3.29999995,  110.        ,   77.        ],\n",
       "       [   4.        ,    5.9000001 ,  238.        ,   72.        ],\n",
       "       [   4.        ,   15.39999962,  335.        ,   80.        ],\n",
       "       [   3.        ,   17.39999962,  211.        ,   60.        ],\n",
       "       [   1.        ,    5.30000019,   46.        ,   83.        ],\n",
       "       [   2.        ,    2.5999999 ,  120.        ,   54.        ],\n",
       "       [   4.        ,   10.39999962,  249.        ,   83.        ],\n",
       "       [   2.        ,    7.19999981,  113.        ,   65.        ],\n",
       "       [   1.        ,    2.20000005,   56.        ,   57.        ],\n",
       "       [   2.        ,    6.        ,  115.        ,   66.        ],\n",
       "       [   2.        ,    9.69999981,  109.        ,   52.        ],\n",
       "       [   4.        ,   15.39999962,  249.        ,   66.        ],\n",
       "       [   1.        ,    2.0999999 ,   83.        ,   51.        ],\n",
       "       [   4.        ,   11.30000019,  300.        ,   67.        ],\n",
       "       [   3.        ,    4.4000001 ,  149.        ,   85.        ],\n",
       "       [   4.        ,   12.10000038,  255.        ,   74.        ],\n",
       "       [   1.        ,    2.70000005,   72.        ,   66.        ],\n",
       "       [   4.        ,   16.10000038,  259.        ,   44.        ],\n",
       "       [   3.        ,    9.        ,  178.        ,   70.        ],\n",
       "       [   2.        ,    6.        ,  109.        ,   53.        ],\n",
       "       [   2.        ,    4.30000019,  102.        ,   62.        ],\n",
       "       [   4.        ,   12.19999981,  252.        ,   81.        ],\n",
       "       [   1.        ,    2.0999999 ,   57.        ,   56.        ],\n",
       "       [   3.        ,    7.4000001 ,  159.        ,   89.        ],\n",
       "       [   4.        ,   11.39999962,  285.        ,   70.        ],\n",
       "       [   4.        ,   11.10000038,  254.        ,   86.        ],\n",
       "       [   4.        ,   13.        ,  337.        ,   45.        ],\n",
       "       [   1.        ,    0.80000001,   45.        ,   44.        ],\n",
       "       [   2.        ,    7.30000019,  120.        ,   75.        ],\n",
       "       [   3.        ,    6.5999999 ,  151.        ,   68.        ],\n",
       "       [   3.        ,    4.9000001 ,  159.        ,   67.        ],\n",
       "       [   2.        ,    6.30000019,  106.        ,   72.        ],\n",
       "       [   3.        ,    3.4000001 ,  174.        ,   87.        ],\n",
       "       [   4.        ,   14.39999962,  279.        ,   48.        ],\n",
       "       [   1.        ,    3.79999995,   86.        ,   45.        ],\n",
       "       [   3.        ,   13.19999981,  188.        ,   59.        ],\n",
       "       [   3.        ,   12.69999981,  201.        ,   80.        ],\n",
       "       [   2.        ,    3.20000005,  120.        ,   80.        ],\n",
       "       [   1.        ,    2.20000005,   48.        ,   32.        ],\n",
       "       [   3.        ,    8.5       ,  156.        ,   63.        ],\n",
       "       [   3.        ,    4.        ,  145.        ,   73.        ],\n",
       "       [   1.        ,    5.69999981,   81.        ,   39.        ],\n",
       "       [   1.        ,    2.5999999 ,   53.        ,   66.        ],\n",
       "       [   3.        ,    6.80000019,  161.        ,   60.        ]], dtype=float32)"
      ]
     },
     "execution_count": 341,
     "metadata": {},
     "output_type": "execute_result"
    }
   ],
   "source": [
    "slice=crimeArray[:,1:5]\n",
    "slice.shape\n",
    "slice"
   ]
  },
  {
   "cell_type": "code",
   "execution_count": 342,
   "metadata": {
    "collapsed": true
   },
   "outputs": [],
   "source": [
    "s=slice[1:2]"
   ]
  },
  {
   "cell_type": "code",
   "execution_count": 343,
   "metadata": {},
   "outputs": [
    {
     "name": "stdout",
     "output_type": "stream",
     "text": [
      "{'State': 671, 'StateCode': 'Alabama', 'closest_cluster': 7.0, 'crimeCluster': 4, 'Murder': 13.199999999999999, 'Assault': 236, 'UrbanPop': 58, 'Rape': 21.199999999999999}\n",
      "CPU times: user 4 ms, sys: 8 ms, total: 12 ms\n",
      "Wall time: 298 ms\n"
     ]
    }
   ],
   "source": [
    "%%time\n",
    "\n",
    "result = kmeans_predictor.predict(s)\n",
    "clusters = [r.label['closest_cluster'].float32_tensor.values[0] for r in result]\n",
    "i = 0\n",
    " \n",
    "    \n",
    "for r in result:\n",
    "    out = {\n",
    "      \"State\" : crime['State'].iloc[i],  \n",
    "      \"StateCode\" : xref['State'].iloc[i],  \n",
    "      \"closest_cluster\" :  r.label['closest_cluster'].float32_tensor.values[0],\n",
    "      \"crimeCluster\" : crime['crimeCluster'].iloc[i],  \n",
    "      \"Murder\" :  crime['Murder'].iloc[i],  \n",
    "      \"Assault\" : crime['Assault'].iloc[i], \n",
    "      \"UrbanPop\" : crime['UrbanPop'].iloc[i],  \n",
    "      \"Rape\" :  crime['Rape'].iloc[i]\n",
    "    }    \n",
    "    print(out) \n",
    "    i = i + 1\n",
    "\n",
    "\n",
    " "
   ]
  },
  {
   "cell_type": "code",
   "execution_count": 344,
   "metadata": {},
   "outputs": [
    {
     "name": "stdout",
     "output_type": "stream",
     "text": [
      "{'State': 671, 'StateCode': 'Alabama', 'closest_cluster': 1.0, 'crimeCluster': 4, 'Murder': 13.199999999999999, 'Assault': 236, 'UrbanPop': 58, 'Rape': 21.199999999999999}\n",
      "{'State': 589, 'StateCode': 'Alaska', 'closest_cluster': 7.0, 'crimeCluster': 4, 'Murder': 10.0, 'Assault': 263, 'UrbanPop': 48, 'Rape': 44.5}\n",
      "{'State': 724, 'StateCode': 'Arizona', 'closest_cluster': 3.0, 'crimeCluster': 4, 'Murder': 8.0999999999999996, 'Assault': 294, 'UrbanPop': 80, 'Rape': 31.0}\n",
      "{'State': 820, 'StateCode': 'Arkansas', 'closest_cluster': 6.0, 'crimeCluster': 3, 'Murder': 8.8000000000000007, 'Assault': 190, 'UrbanPop': 50, 'Rape': 19.5}\n",
      "{'State': 1016, 'StateCode': 'California', 'closest_cluster': 3.0, 'crimeCluster': 4, 'Murder': 9.0, 'Assault': 276, 'UrbanPop': 91, 'Rape': 40.600000000000001}\n",
      "{'State': 819, 'StateCode': 'Colorado', 'closest_cluster': 6.0, 'crimeCluster': 3, 'Murder': 7.9000000000000004, 'Assault': 204, 'UrbanPop': 78, 'Rape': 38.700000000000003}\n",
      "{'State': 1151, 'StateCode': 'Connecticut', 'closest_cluster': 5.0, 'crimeCluster': 2, 'Murder': 3.2999999999999998, 'Assault': 110, 'UrbanPop': 77, 'Rape': 11.1}\n",
      "{'State': 805, 'StateCode': 'Delaware', 'closest_cluster': 1.0, 'crimeCluster': 4, 'Murder': 5.9000000000000004, 'Assault': 238, 'UrbanPop': 72, 'Rape': 15.800000000000001}\n",
      "{'State': 705, 'StateCode': 'Florida', 'closest_cluster': 9.0, 'crimeCluster': 4, 'Murder': 15.4, 'Assault': 335, 'UrbanPop': 80, 'Rape': 31.899999999999999}\n",
      "{'State': 702, 'StateCode': 'Georgia', 'closest_cluster': 6.0, 'crimeCluster': 3, 'Murder': 17.399999999999999, 'Assault': 211, 'UrbanPop': 60, 'Rape': 25.800000000000001}\n",
      "{'State': 595, 'StateCode': 'Hawaii', 'closest_cluster': 4.0, 'crimeCluster': 1, 'Murder': 5.2999999999999998, 'Assault': 46, 'UrbanPop': 83, 'Rape': 20.199999999999999}\n",
      "{'State': 485, 'StateCode': 'Idaho', 'closest_cluster': 5.0, 'crimeCluster': 2, 'Murder': 2.6000000000000001, 'Assault': 120, 'UrbanPop': 54, 'Rape': 14.199999999999999}\n",
      "{'State': 835, 'StateCode': 'Illinois', 'closest_cluster': 1.0, 'crimeCluster': 4, 'Murder': 10.4, 'Assault': 249, 'UrbanPop': 83, 'Rape': 24.0}\n",
      "{'State': 692, 'StateCode': 'Indiana', 'closest_cluster': 5.0, 'crimeCluster': 2, 'Murder': 7.2000000000000002, 'Assault': 113, 'UrbanPop': 65, 'Rape': 21.0}\n",
      "{'State': 400, 'StateCode': 'Iowa', 'closest_cluster': 4.0, 'crimeCluster': 1, 'Murder': 2.2000000000000002, 'Assault': 56, 'UrbanPop': 57, 'Rape': 11.300000000000001}\n",
      "{'State': 609, 'StateCode': 'Kansas', 'closest_cluster': 5.0, 'crimeCluster': 2, 'Murder': 6.0, 'Assault': 115, 'UrbanPop': 66, 'Rape': 18.0}\n",
      "{'State': 846, 'StateCode': 'Kentucky', 'closest_cluster': 5.0, 'crimeCluster': 2, 'Murder': 9.6999999999999993, 'Assault': 109, 'UrbanPop': 52, 'Rape': 16.300000000000001}\n",
      "{'State': 933, 'StateCode': 'Louisiana', 'closest_cluster': 1.0, 'crimeCluster': 4, 'Murder': 15.4, 'Assault': 249, 'UrbanPop': 66, 'Rape': 22.199999999999999}\n",
      "{'State': 490, 'StateCode': 'Maine', 'closest_cluster': 0.0, 'crimeCluster': 1, 'Murder': 2.1000000000000001, 'Assault': 83, 'UrbanPop': 51, 'Rape': 7.7999999999999998}\n",
      "{'State': 824, 'StateCode': 'Maryland', 'closest_cluster': 3.0, 'crimeCluster': 4, 'Murder': 11.300000000000001, 'Assault': 300, 'UrbanPop': 67, 'Rape': 27.800000000000001}\n",
      "{'State': 1384, 'StateCode': 'Massachusetts', 'closest_cluster': 2.0, 'crimeCluster': 3, 'Murder': 4.4000000000000004, 'Assault': 149, 'UrbanPop': 85, 'Rape': 16.300000000000001}\n",
      "{'State': 800, 'StateCode': 'Michigan', 'closest_cluster': 1.0, 'crimeCluster': 4, 'Murder': 12.1, 'Assault': 255, 'UrbanPop': 74, 'Rape': 35.100000000000001}\n",
      "{'State': 942, 'StateCode': 'Minnesota', 'closest_cluster': 4.0, 'crimeCluster': 1, 'Murder': 2.7000000000000002, 'Assault': 72, 'UrbanPop': 66, 'Rape': 14.9}\n",
      "{'State': 1181, 'StateCode': 'Mississippi', 'closest_cluster': 7.0, 'crimeCluster': 4, 'Murder': 16.100000000000001, 'Assault': 259, 'UrbanPop': 44, 'Rape': 17.100000000000001}\n",
      "{'State': 859, 'StateCode': 'Missouri', 'closest_cluster': 2.0, 'crimeCluster': 3, 'Murder': 9.0, 'Assault': 178, 'UrbanPop': 70, 'Rape': 28.199999999999999}\n",
      "{'State': 718, 'StateCode': 'Montana', 'closest_cluster': 5.0, 'crimeCluster': 2, 'Murder': 6.0, 'Assault': 109, 'UrbanPop': 53, 'Rape': 16.399999999999999}\n",
      "{'State': 807, 'StateCode': 'Nebraska', 'closest_cluster': 5.0, 'crimeCluster': 2, 'Murder': 4.2999999999999998, 'Assault': 102, 'UrbanPop': 62, 'Rape': 16.5}\n",
      "{'State': 591, 'StateCode': 'Nevada', 'closest_cluster': 1.0, 'crimeCluster': 4, 'Murder': 12.199999999999999, 'Assault': 252, 'UrbanPop': 81, 'Rape': 46.0}\n",
      "{'State': 1259, 'StateCode': 'New Hampshire', 'closest_cluster': 4.0, 'crimeCluster': 1, 'Murder': 2.1000000000000001, 'Assault': 57, 'UrbanPop': 56, 'Rape': 9.5}\n",
      "{'State': 956, 'StateCode': 'New Jersey', 'closest_cluster': 2.0, 'crimeCluster': 3, 'Murder': 7.4000000000000004, 'Assault': 159, 'UrbanPop': 89, 'Rape': 18.800000000000001}\n",
      "{'State': 943, 'StateCode': 'New Mexico', 'closest_cluster': 3.0, 'crimeCluster': 4, 'Murder': 11.4, 'Assault': 285, 'UrbanPop': 70, 'Rape': 32.100000000000001}\n",
      "{'State': 751, 'StateCode': 'New York', 'closest_cluster': 1.0, 'crimeCluster': 4, 'Murder': 11.1, 'Assault': 254, 'UrbanPop': 86, 'Rape': 26.100000000000001}\n",
      "{'State': 1364, 'StateCode': 'North Carolina', 'closest_cluster': 9.0, 'crimeCluster': 4, 'Murder': 13.0, 'Assault': 337, 'UrbanPop': 45, 'Rape': 16.100000000000001}\n",
      "{'State': 1151, 'StateCode': 'North Dakota', 'closest_cluster': 8.0, 'crimeCluster': 1, 'Murder': 0.80000000000000004, 'Assault': 45, 'UrbanPop': 44, 'Rape': 7.2999999999999998}\n",
      "{'State': 399, 'StateCode': 'Ohio', 'closest_cluster': 5.0, 'crimeCluster': 2, 'Murder': 7.2999999999999998, 'Assault': 120, 'UrbanPop': 75, 'Rape': 21.399999999999999}\n",
      "{'State': 812, 'StateCode': 'Oklahoma', 'closest_cluster': 2.0, 'crimeCluster': 3, 'Murder': 6.5999999999999996, 'Assault': 151, 'UrbanPop': 68, 'Rape': 20.0}\n",
      "{'State': 618, 'StateCode': 'Oregon', 'closest_cluster': 2.0, 'crimeCluster': 3, 'Murder': 4.9000000000000004, 'Assault': 159, 'UrbanPop': 67, 'Rape': 29.300000000000001}\n",
      "{'State': 1272, 'StateCode': 'Pennsylvania', 'closest_cluster': 5.0, 'crimeCluster': 2, 'Murder': 6.2999999999999998, 'Assault': 106, 'UrbanPop': 72, 'Rape': 14.9}\n",
      "{'State': 1133, 'StateCode': 'Rhode Island', 'closest_cluster': 2.0, 'crimeCluster': 3, 'Murder': 3.3999999999999999, 'Assault': 174, 'UrbanPop': 87, 'Rape': 8.3000000000000007}\n",
      "{'State': 1372, 'StateCode': 'South Carolina', 'closest_cluster': 7.0, 'crimeCluster': 4, 'Murder': 14.4, 'Assault': 279, 'UrbanPop': 48, 'Rape': 22.5}\n",
      "{'State': 1159, 'StateCode': 'South Dakota', 'closest_cluster': 0.0, 'crimeCluster': 1, 'Murder': 3.7999999999999998, 'Assault': 86, 'UrbanPop': 45, 'Rape': 12.800000000000001}\n",
      "{'State': 938, 'StateCode': 'Tennessee', 'closest_cluster': 6.0, 'crimeCluster': 3, 'Murder': 13.199999999999999, 'Assault': 188, 'UrbanPop': 59, 'Rape': 26.899999999999999}\n",
      "{'State': 517, 'StateCode': 'Texas', 'closest_cluster': 6.0, 'crimeCluster': 3, 'Murder': 12.699999999999999, 'Assault': 201, 'UrbanPop': 80, 'Rape': 25.5}\n",
      "{'State': 402, 'StateCode': 'Utah', 'closest_cluster': 5.0, 'crimeCluster': 2, 'Murder': 3.2000000000000002, 'Assault': 120, 'UrbanPop': 80, 'Rape': 22.899999999999999}\n",
      "{'State': 747, 'StateCode': 'Vermont', 'closest_cluster': 8.0, 'crimeCluster': 1, 'Murder': 2.2000000000000002, 'Assault': 48, 'UrbanPop': 32, 'Rape': 11.199999999999999}\n",
      "{'State': 825, 'StateCode': 'Virginia', 'closest_cluster': 2.0, 'crimeCluster': 3, 'Murder': 8.5, 'Assault': 156, 'UrbanPop': 63, 'Rape': 20.699999999999999}\n",
      "{'State': 1058, 'StateCode': 'Washington', 'closest_cluster': 2.0, 'crimeCluster': 3, 'Murder': 4.0, 'Assault': 145, 'UrbanPop': 73, 'Rape': 26.199999999999999}\n",
      "{'State': 1276, 'StateCode': 'West Virginia', 'closest_cluster': 0.0, 'crimeCluster': 1, 'Murder': 5.7000000000000002, 'Assault': 81, 'UrbanPop': 39, 'Rape': 9.3000000000000007}\n",
      "{'State': 957, 'StateCode': 'Wisconsin', 'closest_cluster': 4.0, 'crimeCluster': 1, 'Murder': 2.6000000000000001, 'Assault': 53, 'UrbanPop': 66, 'Rape': 10.800000000000001}\n",
      "{'State': 746, 'StateCode': 'Wyoming', 'closest_cluster': 2.0, 'crimeCluster': 3, 'Murder': 6.7999999999999998, 'Assault': 161, 'UrbanPop': 60, 'Rape': 15.6}\n",
      "CPU times: user 16 ms, sys: 4 ms, total: 20 ms\n",
      "Wall time: 160 ms\n"
     ]
    }
   ],
   "source": [
    "%%time\n",
    "\n",
    "result = kmeans_predictor.predict(slice)\n",
    "clusters = [r.label['closest_cluster'].float32_tensor.values[0] for r in result]\n",
    "i = 0\n",
    " \n",
    "    \n",
    "for r in result:\n",
    "    out = {\n",
    "      \"State\" : crime['State'].iloc[i],  \n",
    "      \"StateCode\" : xref['State'].iloc[i],  \n",
    "      \"closest_cluster\" :  r.label['closest_cluster'].float32_tensor.values[0],\n",
    "      \"crimeCluster\" : crime['crimeCluster'].iloc[i],  \n",
    "      \"Murder\" :  crime['Murder'].iloc[i],  \n",
    "      \"Assault\" : crime['Assault'].iloc[i], \n",
    "      \"UrbanPop\" : crime['UrbanPop'].iloc[i],  \n",
    "      \"Rape\" :  crime['Rape'].iloc[i]\n",
    "    }    \n",
    "    print(out) \n",
    "    i = i + 1"
   ]
  },
  {
   "cell_type": "code",
   "execution_count": null,
   "metadata": {
    "collapsed": true
   },
   "outputs": [],
   "source": []
  }
 ],
 "metadata": {
  "kernelspec": {
   "display_name": "Python 3 (ipykernel)",
   "language": "python",
   "name": "python3"
  },
  "language_info": {
   "codemirror_mode": {
    "name": "ipython",
    "version": 3
   },
   "file_extension": ".py",
   "mimetype": "text/x-python",
   "name": "python",
   "nbconvert_exporter": "python",
   "pygments_lexer": "ipython3",
   "version": "3.10.9"
  }
 },
 "nbformat": 4,
 "nbformat_minor": 2
}
